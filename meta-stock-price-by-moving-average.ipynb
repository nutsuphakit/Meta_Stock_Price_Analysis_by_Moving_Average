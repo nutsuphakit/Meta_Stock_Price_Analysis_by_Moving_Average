{
 "cells": [
  {
   "cell_type": "code",
   "execution_count": 1,
   "id": "86300df2",
   "metadata": {
    "_cell_guid": "b1076dfc-b9ad-4769-8c92-a6c4dae69d19",
    "_uuid": "8f2839f25d086af736a60e9eeb907d3b93b6e0e5",
    "execution": {
     "iopub.execute_input": "2024-06-30T13:18:41.927617Z",
     "iopub.status.busy": "2024-06-30T13:18:41.927165Z",
     "iopub.status.idle": "2024-06-30T13:18:42.831989Z",
     "shell.execute_reply": "2024-06-30T13:18:42.830713Z"
    },
    "papermill": {
     "duration": 0.913983,
     "end_time": "2024-06-30T13:18:42.834570",
     "exception": false,
     "start_time": "2024-06-30T13:18:41.920587",
     "status": "completed"
    },
    "tags": []
   },
   "outputs": [
    {
     "name": "stdout",
     "output_type": "stream",
     "text": [
      "/kaggle/input/meta-platforms-inc-meta/META.csv\n"
     ]
    }
   ],
   "source": [
    "# This Python 3 environment comes with many helpful analytics libraries installed\n",
    "# It is defined by the kaggle/python Docker image: https://github.com/kaggle/docker-python\n",
    "# For example, here's several helpful packages to load\n",
    "\n",
    "import numpy as np # linear algebra\n",
    "import pandas as pd # data processing, CSV file I/O (e.g. pd.read_csv)\n",
    "\n",
    "# Input data files are available in the read-only \"../input/\" directory\n",
    "# For example, running this (by clicking run or pressing Shift+Enter) will list all files under the input directory\n",
    "\n",
    "import os\n",
    "for dirname, _, filenames in os.walk('/kaggle/input'):\n",
    "    for filename in filenames:\n",
    "        print(os.path.join(dirname, filename))\n",
    "\n",
    "# You can write up to 20GB to the current directory (/kaggle/working/) that gets preserved as output when you create a version using \"Save & Run All\" \n",
    "# You can also write temporary files to /kaggle/temp/, but they won't be saved outside of the current session"
   ]
  },
  {
   "cell_type": "markdown",
   "id": "5232b61f",
   "metadata": {
    "papermill": {
     "duration": 0.004247,
     "end_time": "2024-06-30T13:18:42.843680",
     "exception": false,
     "start_time": "2024-06-30T13:18:42.839433",
     "status": "completed"
    },
    "tags": []
   },
   "source": [
    "# Data Ingestion, Exploration and Preprocessing"
   ]
  },
  {
   "cell_type": "code",
   "execution_count": 2,
   "id": "74e5614a",
   "metadata": {
    "execution": {
     "iopub.execute_input": "2024-06-30T13:18:42.854442Z",
     "iopub.status.busy": "2024-06-30T13:18:42.853928Z",
     "iopub.status.idle": "2024-06-30T13:18:42.906808Z",
     "shell.execute_reply": "2024-06-30T13:18:42.905605Z"
    },
    "papermill": {
     "duration": 0.061308,
     "end_time": "2024-06-30T13:18:42.909416",
     "exception": false,
     "start_time": "2024-06-30T13:18:42.848108",
     "status": "completed"
    },
    "tags": []
   },
   "outputs": [
    {
     "data": {
      "text/html": [
       "<div>\n",
       "<style scoped>\n",
       "    .dataframe tbody tr th:only-of-type {\n",
       "        vertical-align: middle;\n",
       "    }\n",
       "\n",
       "    .dataframe tbody tr th {\n",
       "        vertical-align: top;\n",
       "    }\n",
       "\n",
       "    .dataframe thead th {\n",
       "        text-align: right;\n",
       "    }\n",
       "</style>\n",
       "<table border=\"1\" class=\"dataframe\">\n",
       "  <thead>\n",
       "    <tr style=\"text-align: right;\">\n",
       "      <th></th>\n",
       "      <th>Date</th>\n",
       "      <th>Open</th>\n",
       "      <th>High</th>\n",
       "      <th>Low</th>\n",
       "      <th>Close</th>\n",
       "      <th>Adj Close</th>\n",
       "      <th>Volume</th>\n",
       "    </tr>\n",
       "  </thead>\n",
       "  <tbody>\n",
       "    <tr>\n",
       "      <th>0</th>\n",
       "      <td>2012-05-18</td>\n",
       "      <td>42.049999</td>\n",
       "      <td>45.000000</td>\n",
       "      <td>38.000000</td>\n",
       "      <td>38.230000</td>\n",
       "      <td>38.230000</td>\n",
       "      <td>573576400</td>\n",
       "    </tr>\n",
       "    <tr>\n",
       "      <th>1</th>\n",
       "      <td>2012-05-21</td>\n",
       "      <td>36.529999</td>\n",
       "      <td>36.660000</td>\n",
       "      <td>33.000000</td>\n",
       "      <td>34.029999</td>\n",
       "      <td>34.029999</td>\n",
       "      <td>168192700</td>\n",
       "    </tr>\n",
       "    <tr>\n",
       "      <th>2</th>\n",
       "      <td>2012-05-22</td>\n",
       "      <td>32.610001</td>\n",
       "      <td>33.590000</td>\n",
       "      <td>30.940001</td>\n",
       "      <td>31.000000</td>\n",
       "      <td>31.000000</td>\n",
       "      <td>101786600</td>\n",
       "    </tr>\n",
       "    <tr>\n",
       "      <th>3</th>\n",
       "      <td>2012-05-23</td>\n",
       "      <td>31.370001</td>\n",
       "      <td>32.500000</td>\n",
       "      <td>31.360001</td>\n",
       "      <td>32.000000</td>\n",
       "      <td>32.000000</td>\n",
       "      <td>73600000</td>\n",
       "    </tr>\n",
       "    <tr>\n",
       "      <th>4</th>\n",
       "      <td>2012-05-24</td>\n",
       "      <td>32.950001</td>\n",
       "      <td>33.209999</td>\n",
       "      <td>31.770000</td>\n",
       "      <td>33.029999</td>\n",
       "      <td>33.029999</td>\n",
       "      <td>50237200</td>\n",
       "    </tr>\n",
       "  </tbody>\n",
       "</table>\n",
       "</div>"
      ],
      "text/plain": [
       "         Date       Open       High        Low      Close  Adj Close  \\\n",
       "0  2012-05-18  42.049999  45.000000  38.000000  38.230000  38.230000   \n",
       "1  2012-05-21  36.529999  36.660000  33.000000  34.029999  34.029999   \n",
       "2  2012-05-22  32.610001  33.590000  30.940001  31.000000  31.000000   \n",
       "3  2012-05-23  31.370001  32.500000  31.360001  32.000000  32.000000   \n",
       "4  2012-05-24  32.950001  33.209999  31.770000  33.029999  33.029999   \n",
       "\n",
       "      Volume  \n",
       "0  573576400  \n",
       "1  168192700  \n",
       "2  101786600  \n",
       "3   73600000  \n",
       "4   50237200  "
      ]
     },
     "execution_count": 2,
     "metadata": {},
     "output_type": "execute_result"
    }
   ],
   "source": [
    "df = pd.read_csv(\"/kaggle/input/meta-platforms-inc-meta/META.csv\")\n",
    "df.head()"
   ]
  },
  {
   "cell_type": "code",
   "execution_count": 3,
   "id": "8d715f9d",
   "metadata": {
    "execution": {
     "iopub.execute_input": "2024-06-30T13:18:42.920956Z",
     "iopub.status.busy": "2024-06-30T13:18:42.920546Z",
     "iopub.status.idle": "2024-06-30T13:18:42.943877Z",
     "shell.execute_reply": "2024-06-30T13:18:42.942477Z"
    },
    "papermill": {
     "duration": 0.031875,
     "end_time": "2024-06-30T13:18:42.946267",
     "exception": false,
     "start_time": "2024-06-30T13:18:42.914392",
     "status": "completed"
    },
    "tags": []
   },
   "outputs": [
    {
     "name": "stdout",
     "output_type": "stream",
     "text": [
      "<class 'pandas.core.frame.DataFrame'>\n",
      "RangeIndex: 2906 entries, 0 to 2905\n",
      "Data columns (total 7 columns):\n",
      " #   Column     Non-Null Count  Dtype  \n",
      "---  ------     --------------  -----  \n",
      " 0   Date       2906 non-null   object \n",
      " 1   Open       2906 non-null   float64\n",
      " 2   High       2906 non-null   float64\n",
      " 3   Low        2906 non-null   float64\n",
      " 4   Close      2906 non-null   float64\n",
      " 5   Adj Close  2906 non-null   float64\n",
      " 6   Volume     2906 non-null   int64  \n",
      "dtypes: float64(5), int64(1), object(1)\n",
      "memory usage: 159.0+ KB\n"
     ]
    }
   ],
   "source": [
    "df.info()"
   ]
  },
  {
   "cell_type": "code",
   "execution_count": 4,
   "id": "6ec1fee9",
   "metadata": {
    "execution": {
     "iopub.execute_input": "2024-06-30T13:18:42.957698Z",
     "iopub.status.busy": "2024-06-30T13:18:42.957264Z",
     "iopub.status.idle": "2024-06-30T13:18:42.968896Z",
     "shell.execute_reply": "2024-06-30T13:18:42.967674Z"
    },
    "papermill": {
     "duration": 0.020558,
     "end_time": "2024-06-30T13:18:42.971641",
     "exception": false,
     "start_time": "2024-06-30T13:18:42.951083",
     "status": "completed"
    },
    "tags": []
   },
   "outputs": [],
   "source": [
    "df[\"Date\"] = pd.to_datetime(df[\"Date\"])"
   ]
  },
  {
   "cell_type": "code",
   "execution_count": 5,
   "id": "1e81c2cd",
   "metadata": {
    "execution": {
     "iopub.execute_input": "2024-06-30T13:18:42.983018Z",
     "iopub.status.busy": "2024-06-30T13:18:42.982638Z",
     "iopub.status.idle": "2024-06-30T13:18:42.994510Z",
     "shell.execute_reply": "2024-06-30T13:18:42.993296Z"
    },
    "papermill": {
     "duration": 0.020504,
     "end_time": "2024-06-30T13:18:42.997073",
     "exception": false,
     "start_time": "2024-06-30T13:18:42.976569",
     "status": "completed"
    },
    "tags": []
   },
   "outputs": [
    {
     "name": "stdout",
     "output_type": "stream",
     "text": [
      "<class 'pandas.core.frame.DataFrame'>\n",
      "RangeIndex: 2906 entries, 0 to 2905\n",
      "Data columns (total 7 columns):\n",
      " #   Column     Non-Null Count  Dtype         \n",
      "---  ------     --------------  -----         \n",
      " 0   Date       2906 non-null   datetime64[ns]\n",
      " 1   Open       2906 non-null   float64       \n",
      " 2   High       2906 non-null   float64       \n",
      " 3   Low        2906 non-null   float64       \n",
      " 4   Close      2906 non-null   float64       \n",
      " 5   Adj Close  2906 non-null   float64       \n",
      " 6   Volume     2906 non-null   int64         \n",
      "dtypes: datetime64[ns](1), float64(5), int64(1)\n",
      "memory usage: 159.0 KB\n"
     ]
    }
   ],
   "source": [
    "df.info()"
   ]
  },
  {
   "cell_type": "code",
   "execution_count": 6,
   "id": "772978a6",
   "metadata": {
    "execution": {
     "iopub.execute_input": "2024-06-30T13:18:43.008703Z",
     "iopub.status.busy": "2024-06-30T13:18:43.008267Z",
     "iopub.status.idle": "2024-06-30T13:18:43.047659Z",
     "shell.execute_reply": "2024-06-30T13:18:43.046633Z"
    },
    "papermill": {
     "duration": 0.048074,
     "end_time": "2024-06-30T13:18:43.050115",
     "exception": false,
     "start_time": "2024-06-30T13:18:43.002041",
     "status": "completed"
    },
    "tags": []
   },
   "outputs": [
    {
     "data": {
      "text/html": [
       "<div>\n",
       "<style scoped>\n",
       "    .dataframe tbody tr th:only-of-type {\n",
       "        vertical-align: middle;\n",
       "    }\n",
       "\n",
       "    .dataframe tbody tr th {\n",
       "        vertical-align: top;\n",
       "    }\n",
       "\n",
       "    .dataframe thead th {\n",
       "        text-align: right;\n",
       "    }\n",
       "</style>\n",
       "<table border=\"1\" class=\"dataframe\">\n",
       "  <thead>\n",
       "    <tr style=\"text-align: right;\">\n",
       "      <th></th>\n",
       "      <th>Date</th>\n",
       "      <th>Open</th>\n",
       "      <th>High</th>\n",
       "      <th>Low</th>\n",
       "      <th>Close</th>\n",
       "      <th>Adj Close</th>\n",
       "      <th>Volume</th>\n",
       "    </tr>\n",
       "  </thead>\n",
       "  <tbody>\n",
       "    <tr>\n",
       "      <th>count</th>\n",
       "      <td>2906</td>\n",
       "      <td>2906.000000</td>\n",
       "      <td>2906.000000</td>\n",
       "      <td>2906.000000</td>\n",
       "      <td>2906.000000</td>\n",
       "      <td>2906.000000</td>\n",
       "      <td>2.906000e+03</td>\n",
       "    </tr>\n",
       "    <tr>\n",
       "      <th>mean</th>\n",
       "      <td>2018-02-26 08:47:14.411562240</td>\n",
       "      <td>156.550165</td>\n",
       "      <td>158.583771</td>\n",
       "      <td>154.572698</td>\n",
       "      <td>156.614814</td>\n",
       "      <td>156.614814</td>\n",
       "      <td>3.068686e+07</td>\n",
       "    </tr>\n",
       "    <tr>\n",
       "      <th>min</th>\n",
       "      <td>2012-05-18 00:00:00</td>\n",
       "      <td>18.080000</td>\n",
       "      <td>18.270000</td>\n",
       "      <td>17.549999</td>\n",
       "      <td>17.730000</td>\n",
       "      <td>17.730000</td>\n",
       "      <td>5.467500e+06</td>\n",
       "    </tr>\n",
       "    <tr>\n",
       "      <th>25%</th>\n",
       "      <td>2015-04-10 18:00:00</td>\n",
       "      <td>80.504999</td>\n",
       "      <td>81.354999</td>\n",
       "      <td>80.000000</td>\n",
       "      <td>80.669998</td>\n",
       "      <td>80.669998</td>\n",
       "      <td>1.637578e+07</td>\n",
       "    </tr>\n",
       "    <tr>\n",
       "      <th>50%</th>\n",
       "      <td>2018-02-27 12:00:00</td>\n",
       "      <td>152.945000</td>\n",
       "      <td>154.680001</td>\n",
       "      <td>151.119995</td>\n",
       "      <td>153.074997</td>\n",
       "      <td>153.074997</td>\n",
       "      <td>2.302375e+07</td>\n",
       "    </tr>\n",
       "    <tr>\n",
       "      <th>75%</th>\n",
       "      <td>2021-01-14 18:00:00</td>\n",
       "      <td>202.824997</td>\n",
       "      <td>205.790001</td>\n",
       "      <td>200.262501</td>\n",
       "      <td>203.164997</td>\n",
       "      <td>203.164997</td>\n",
       "      <td>3.524718e+07</td>\n",
       "    </tr>\n",
       "    <tr>\n",
       "      <th>max</th>\n",
       "      <td>2023-12-05 00:00:00</td>\n",
       "      <td>381.679993</td>\n",
       "      <td>384.329987</td>\n",
       "      <td>378.809998</td>\n",
       "      <td>382.179993</td>\n",
       "      <td>382.179993</td>\n",
       "      <td>5.735764e+08</td>\n",
       "    </tr>\n",
       "    <tr>\n",
       "      <th>std</th>\n",
       "      <td>NaN</td>\n",
       "      <td>90.039390</td>\n",
       "      <td>91.194871</td>\n",
       "      <td>88.936874</td>\n",
       "      <td>90.082156</td>\n",
       "      <td>90.082156</td>\n",
       "      <td>2.642389e+07</td>\n",
       "    </tr>\n",
       "  </tbody>\n",
       "</table>\n",
       "</div>"
      ],
      "text/plain": [
       "                                Date         Open         High          Low  \\\n",
       "count                           2906  2906.000000  2906.000000  2906.000000   \n",
       "mean   2018-02-26 08:47:14.411562240   156.550165   158.583771   154.572698   \n",
       "min              2012-05-18 00:00:00    18.080000    18.270000    17.549999   \n",
       "25%              2015-04-10 18:00:00    80.504999    81.354999    80.000000   \n",
       "50%              2018-02-27 12:00:00   152.945000   154.680001   151.119995   \n",
       "75%              2021-01-14 18:00:00   202.824997   205.790001   200.262501   \n",
       "max              2023-12-05 00:00:00   381.679993   384.329987   378.809998   \n",
       "std                              NaN    90.039390    91.194871    88.936874   \n",
       "\n",
       "             Close    Adj Close        Volume  \n",
       "count  2906.000000  2906.000000  2.906000e+03  \n",
       "mean    156.614814   156.614814  3.068686e+07  \n",
       "min      17.730000    17.730000  5.467500e+06  \n",
       "25%      80.669998    80.669998  1.637578e+07  \n",
       "50%     153.074997   153.074997  2.302375e+07  \n",
       "75%     203.164997   203.164997  3.524718e+07  \n",
       "max     382.179993   382.179993  5.735764e+08  \n",
       "std      90.082156    90.082156  2.642389e+07  "
      ]
     },
     "execution_count": 6,
     "metadata": {},
     "output_type": "execute_result"
    }
   ],
   "source": [
    "df.describe()"
   ]
  },
  {
   "cell_type": "code",
   "execution_count": 7,
   "id": "a5b8c18c",
   "metadata": {
    "execution": {
     "iopub.execute_input": "2024-06-30T13:18:43.062370Z",
     "iopub.status.busy": "2024-06-30T13:18:43.061989Z",
     "iopub.status.idle": "2024-06-30T13:18:43.071360Z",
     "shell.execute_reply": "2024-06-30T13:18:43.070185Z"
    },
    "papermill": {
     "duration": 0.018469,
     "end_time": "2024-06-30T13:18:43.073790",
     "exception": false,
     "start_time": "2024-06-30T13:18:43.055321",
     "status": "completed"
    },
    "tags": []
   },
   "outputs": [
    {
     "data": {
      "text/plain": [
       "Date         0\n",
       "Open         0\n",
       "High         0\n",
       "Low          0\n",
       "Close        0\n",
       "Adj Close    0\n",
       "Volume       0\n",
       "dtype: int64"
      ]
     },
     "execution_count": 7,
     "metadata": {},
     "output_type": "execute_result"
    }
   ],
   "source": [
    "#Checking Missing Values\n",
    "df.isna().sum()"
   ]
  },
  {
   "cell_type": "code",
   "execution_count": 8,
   "id": "8829743d",
   "metadata": {
    "execution": {
     "iopub.execute_input": "2024-06-30T13:18:43.086312Z",
     "iopub.status.busy": "2024-06-30T13:18:43.085920Z",
     "iopub.status.idle": "2024-06-30T13:18:43.091784Z",
     "shell.execute_reply": "2024-06-30T13:18:43.090615Z"
    },
    "papermill": {
     "duration": 0.014966,
     "end_time": "2024-06-30T13:18:43.094070",
     "exception": false,
     "start_time": "2024-06-30T13:18:43.079104",
     "status": "completed"
    },
    "tags": []
   },
   "outputs": [],
   "source": [
    "df.set_index(\"Date\", inplace = True)"
   ]
  },
  {
   "cell_type": "code",
   "execution_count": 9,
   "id": "985f9bf4",
   "metadata": {
    "execution": {
     "iopub.execute_input": "2024-06-30T13:18:43.106624Z",
     "iopub.status.busy": "2024-06-30T13:18:43.106126Z",
     "iopub.status.idle": "2024-06-30T13:18:43.530944Z",
     "shell.execute_reply": "2024-06-30T13:18:43.529811Z"
    },
    "papermill": {
     "duration": 0.433868,
     "end_time": "2024-06-30T13:18:43.533308",
     "exception": false,
     "start_time": "2024-06-30T13:18:43.099440",
     "status": "completed"
    },
    "tags": []
   },
   "outputs": [
    {
     "data": {
      "image/png": "[encoded data removed]",
      "text/plain": [
       "<Figure size 1200x600 with 1 Axes>"
      ]
     },
     "metadata": {},
     "output_type": "display_data"
    }
   ],
   "source": [
    "#Visualize of data\n",
    "import matplotlib.pyplot as plt\n",
    "\n",
    "plt.figure(figsize=(12, 6))\n",
    "\n",
    "plt.plot(df.loc[df.index , 'Close'])\n",
    "plt.title('Meta Stock Close Price')\n",
    "plt.xlabel('Year')\n",
    "plt.ylabel('Close')\n",
    "plt.legend(['Close'])\n",
    "plt.show()"
   ]
  },
  {
   "cell_type": "markdown",
   "id": "ff1efc4e",
   "metadata": {
    "papermill": {
     "duration": 0.006261,
     "end_time": "2024-06-30T13:18:43.546194",
     "exception": false,
     "start_time": "2024-06-30T13:18:43.539933",
     "status": "completed"
    },
    "tags": []
   },
   "source": [
    "# Moving Average Model"
   ]
  },
  {
   "cell_type": "markdown",
   "id": "a2f7b218",
   "metadata": {
    "papermill": {
     "duration": 0.006078,
     "end_time": "2024-06-30T13:18:43.558991",
     "exception": false,
     "start_time": "2024-06-30T13:18:43.552913",
     "status": "completed"
    },
    "tags": []
   },
   "source": [
    "Find the best n to be used in the forecast"
   ]
  },
  {
   "cell_type": "code",
   "execution_count": 10,
   "id": "27b50de4",
   "metadata": {
    "execution": {
     "iopub.execute_input": "2024-06-30T13:18:43.573747Z",
     "iopub.status.busy": "2024-06-30T13:18:43.573313Z",
     "iopub.status.idle": "2024-06-30T13:19:26.994187Z",
     "shell.execute_reply": "2024-06-30T13:19:26.993029Z"
    },
    "papermill": {
     "duration": 43.440087,
     "end_time": "2024-06-30T13:19:27.005334",
     "exception": false,
     "start_time": "2024-06-30T13:18:43.565247",
     "status": "completed"
    },
    "tags": []
   },
   "outputs": [
    {
     "name": "stdout",
     "output_type": "stream",
     "text": [
      "MSE = [  26.50009942   31.1841912    35.88798528 ... 8089.32646951 8094.858705\n",
      " 8100.42282873]\n",
      "Best MSE = 26.50009941624513\n",
      "Optimal n = 3\n"
     ]
    }
   ],
   "source": [
    "optimal_n = None\n",
    "best_mse = None\n",
    "db = df.iloc[:, :].values.astype('float32')\n",
    "mean_results_for_all_possible_n_values = np.zeros(int(len(db) / 2 - 2))\n",
    "for n in range(3, int(len(db) / 2 + 1)):\n",
    "    mean_for_n = np.zeros(len(db) - n)\n",
    "    for i in range(0, len(db) - n):\n",
    "        mean_for_n[i] = np.power(np.mean(db[:, 0][i:i+n]) - db[i + n][0], 2)\n",
    "    mean_results_for_all_possible_n_values[n - 3] = np.mean(mean_for_n)\n",
    "optimal_n = np.argmin(mean_results_for_all_possible_n_values) + 3\n",
    "best_mse = np.min(mean_results_for_all_possible_n_values)\n",
    "print(\"MSE = %s\" % mean_results_for_all_possible_n_values)\n",
    "print(\"Best MSE = %s\" % best_mse)\n",
    "print(\"Optimal n = %s\" % optimal_n)"
   ]
  },
  {
   "cell_type": "code",
   "execution_count": 11,
   "id": "e8afea7b",
   "metadata": {
    "execution": {
     "iopub.execute_input": "2024-06-30T13:19:27.021924Z",
     "iopub.status.busy": "2024-06-30T13:19:27.020711Z",
     "iopub.status.idle": "2024-06-30T13:19:31.246231Z",
     "shell.execute_reply": "2024-06-30T13:19:31.244992Z"
    },
    "papermill": {
     "duration": 4.235827,
     "end_time": "2024-06-30T13:19:31.248589",
     "exception": false,
     "start_time": "2024-06-30T13:19:27.012762",
     "status": "completed"
    },
    "tags": []
   },
   "outputs": [
    {
     "name": "stdout",
     "output_type": "stream",
     "text": [
      "MSE = [   9.95870546   15.59898538   21.04694493 ... 8072.27432851 8077.97705534\n",
      " 8083.47755981]\n",
      "Best MSE = 9.9587054617236\n",
      "Optimal n = 3\n"
     ]
    }
   ],
   "source": [
    "from sklearn.metrics import mean_squared_error\n",
    "\n",
    "optimal_n = None\n",
    "best_mse = None\n",
    "\n",
    "db = df.loc[:,:]\n",
    "mse = np.zeros(int(len(db) / 2 - 2))\n",
    "for n in range(3, int(len(db) / 2 + 1)):\n",
    "    db[\"Moving_Average\"] = db[\"Close\"].rolling(window=n).mean()\n",
    "    db.dropna(inplace=True)\n",
    "    mse[n-3] = mean_squared_error(db[\"Close\"], db[\"Moving_Average\"])\n",
    "    db = df.loc[:,:]\n",
    "optimal_n = np.argmin(mse) + 3\n",
    "best_mse = np.min(mse)   \n",
    "print(\"MSE = %s\" % mse)\n",
    "print(\"Best MSE = %s\" % best_mse)\n",
    "print(\"Optimal n = %s\" % optimal_n)"
   ]
  },
  {
   "cell_type": "code",
   "execution_count": 12,
   "id": "4da09a12",
   "metadata": {
    "execution": {
     "iopub.execute_input": "2024-06-30T13:19:31.263084Z",
     "iopub.status.busy": "2024-06-30T13:19:31.262678Z",
     "iopub.status.idle": "2024-06-30T13:19:31.277657Z",
     "shell.execute_reply": "2024-06-30T13:19:31.276060Z"
    },
    "papermill": {
     "duration": 0.025206,
     "end_time": "2024-06-30T13:19:31.280234",
     "exception": false,
     "start_time": "2024-06-30T13:19:31.255028",
     "status": "completed"
    },
    "tags": []
   },
   "outputs": [
    {
     "name": "stdout",
     "output_type": "stream",
     "text": [
      "Mean Squared Error: 9.9587054617236\n",
      "                 Open       High        Low      Close  Adj Close     Volume  \\\n",
      "Date                                                                           \n",
      "2012-05-22  32.610001  33.590000  30.940001  31.000000  31.000000  101786600   \n",
      "2012-05-23  31.370001  32.500000  31.360001  32.000000  32.000000   73600000   \n",
      "2012-05-24  32.950001  33.209999  31.770000  33.029999  33.029999   50237200   \n",
      "2012-05-25  32.900002  32.950001  31.110001  31.910000  31.910000   37149800   \n",
      "2012-05-29  31.480000  31.690001  28.650000  28.840000  28.840000   78063400   \n",
      "2012-05-30  28.700001  29.549999  27.860001  28.190001  28.190001   57267900   \n",
      "2012-05-31  28.549999  29.670000  26.830000  29.600000  29.600000  111639200   \n",
      "2012-06-01  28.889999  29.150000  27.389999  27.719999  27.719999   41855500   \n",
      "2012-06-04  27.200001  27.650000  26.440001  26.900000  26.900000   35230300   \n",
      "2012-06-05  26.700001  27.760000  25.750000  25.870001  25.870001   42473400   \n",
      "\n",
      "            Moving_Average  \n",
      "Date                        \n",
      "2012-05-22       34.420000  \n",
      "2012-05-23       32.343333  \n",
      "2012-05-24       32.010000  \n",
      "2012-05-25       32.313333  \n",
      "2012-05-29       31.260000  \n",
      "2012-05-30       29.646667  \n",
      "2012-05-31       28.876667  \n",
      "2012-06-01       28.503333  \n",
      "2012-06-04       28.073333  \n",
      "2012-06-05       26.830000  \n"
     ]
    }
   ],
   "source": [
    "n = 3\n",
    "df[\"Moving_Average\"] = df[\"Close\"].rolling(window=n).mean()\n",
    "df.dropna(inplace=True)\n",
    "mse = mean_squared_error(df[\"Close\"], df[\"Moving_Average\"])\n",
    "print(\"Mean Squared Error:\", mse)\n",
    "print(df.head(10))"
   ]
  },
  {
   "cell_type": "markdown",
   "id": "b1caeaff",
   "metadata": {
    "papermill": {
     "duration": 0.006253,
     "end_time": "2024-06-30T13:19:31.292986",
     "exception": false,
     "start_time": "2024-06-30T13:19:31.286733",
     "status": "completed"
    },
    "tags": []
   },
   "source": [
    "# Forecasting"
   ]
  },
  {
   "cell_type": "code",
   "execution_count": 13,
   "id": "1bfda533",
   "metadata": {
    "execution": {
     "iopub.execute_input": "2024-06-30T13:19:31.308294Z",
     "iopub.status.busy": "2024-06-30T13:19:31.307321Z",
     "iopub.status.idle": "2024-06-30T13:19:31.660272Z",
     "shell.execute_reply": "2024-06-30T13:19:31.659184Z"
    },
    "papermill": {
     "duration": 0.363474,
     "end_time": "2024-06-30T13:19:31.662852",
     "exception": false,
     "start_time": "2024-06-30T13:19:31.299378",
     "status": "completed"
    },
    "tags": []
   },
   "outputs": [
    {
     "data": {
      "image/png": "[encoded data removed]",
      "text/plain": [
       "<Figure size 1000x600 with 1 Axes>"
      ]
     },
     "metadata": {},
     "output_type": "display_data"
    }
   ],
   "source": [
    "start_date = '2023-01-01'\n",
    "end_date = '2023-12-31'\n",
    "filtered_df = df.loc[start_date:end_date]\n",
    "\n",
    "plt.figure(figsize=(10, 6))\n",
    "plt.plot(filtered_df.index, filtered_df['Close'], label='Real Prices', color='blue')\n",
    "plt.plot(filtered_df.index, filtered_df['Moving_Average'], label='Moving Average', color='red')\n",
    "\n",
    "plt.xlabel('Date')\n",
    "plt.ylabel('Price')\n",
    "plt.title('Real Prices vs Moving Average')\n",
    "plt.legend()\n",
    "plt.show()"
   ]
  }
 ],
 "metadata": {
  "kaggle": {
   "accelerator": "none",
   "dataSources": [
    {
     "datasetId": 4118881,
     "sourceId": 7137549,
     "sourceType": "datasetVersion"
    }
   ],
   "dockerImageVersionId": 30732,
   "isGpuEnabled": false,
   "isInternetEnabled": false,
   "language": "python",
   "sourceType": "notebook"
  },
  "kernelspec": {
   "display_name": "Python 3",
   "language": "python",
   "name": "python3"
  },
  "language_info": {
   "codemirror_mode": {
    "name": "ipython",
    "version": 3
   },
   "file_extension": ".py",
   "mimetype": "text/x-python",
   "name": "python",
   "nbconvert_exporter": "python",
   "pygments_lexer": "ipython3",
   "version": "3.10.13"
  },
  "papermill": {
   "default_parameters": {},
   "duration": 53.229637,
   "end_time": "2024-06-30T13:19:32.292754",
   "environment_variables": {},
   "exception": null,
   "input_path": "__notebook__.ipynb",
   "output_path": "__notebook__.ipynb",
   "parameters": {},
   "start_time": "2024-06-30T13:18:39.063117",
   "version": "2.5.0"
  }
 },
 "nbformat": 4,
 "nbformat_minor": 5
}
